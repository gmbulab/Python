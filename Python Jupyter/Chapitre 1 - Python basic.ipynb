{
 "cells": [
  {
   "cell_type": "markdown",
   "metadata": {},
   "source": [
    "Basics de Python basé sur : \n",
    "- Python with Data analysis\n"
   ]
  },
  {
   "cell_type": "code",
   "execution_count": 1,
   "metadata": {},
   "outputs": [],
   "source": [
    "# Import des librairies\n",
    "import numpy as np"
   ]
  },
  {
   "cell_type": "markdown",
   "metadata": {},
   "source": [
    "Quelques notes sur python : \n",
    "- Python utilise des indentations (tabs et espaces) pour structurer le code\n",
    "- Pas besoin de terminer son script par ';' sauf si on a plusieurs scripts sur une même ligne\n",
    "- Tout est considéré comme un object en python : du nombre au module en passant par les classes et les fonctions.\n",
    "- Les commentaires sont précédés de # sur une ligne et entouré de 3 ' sur plusieurs lignes. Par exemple : #commentaire 1 et ''' commentaire plusieurs lignes'''\n",
    "- Les fonctions et les méthodes sont appelés avec des parenthèses contenant zeros ou plusieurs paramètres\n",
    "- Quand on assigne une varaible, on crée une référence à l'object. Par exemple a = [1, 2, 3] et b=a font que a et b sont les mêmes objects et toutes les modifications réalisées sur a le seront aussi sur b. Par contre a peut être réassigné à un autre object.\n",
    "- Les modules en python sont des fichiers(codes) avec l'extension .py. On peut donc créer  des fonction et méthodes dans un fichier 'methodes.py' et y faire appel dans une autre fichier en utilisant un import. cfr chap 3\n",
    "- il y a différents types en python : None, str, bytes, float, bool et int. Ces types sont immutable contrairement aux listes, dictionnaire et arrays. \n",
    "- le changement de type est possible en python"
   ]
  },
  {
   "cell_type": "markdown",
   "metadata": {},
   "source": [
    "Les opérations en python : \n",
    "\n",
    "![Opération en Python1](images/py_operation1.PNG)\n",
    "\n",
    "\n",
    "![Opération en Python2](images/pyt_operation2.PNG)"
   ]
  },
  {
   "cell_type": "markdown",
   "metadata": {},
   "source": [
    "# L'utilisation de Tab\n",
    "## 1. Les attributs et methodes\n",
    "### En créant un objet sur python, nous pouvons avoir les différents attributs et methodes disponibles en utilisant 'tab'\n",
    "```python\n",
    "a = 'foo'  \n",
    "```\n",
    "\n",
    "## 2. Retrouver des variables crée \n",
    "```python\n",
    "an_apple = 27\n",
    "an_example = 42\n",
    "an'Tab'  \n",
    "an_apple and an_example any\n",
    "```\n",
    "## 3. Les modules \n",
    "```python\n",
    "import datetime  \n",
    "datetime.'Tab'  \n",
    "```\n",
    "datetime.date <br/> datetime.MAXYEAR <br/>  datetime.timedelta\n",
    "datetime.datetime <br/>  datetime.MINYEAR  <br/> datetime.timezone <br/>\n",
    "datetime.datetime_CAPI  <br/> datetime.time  <br/> datetime.tzinfo\n",
    "\n",
    "## 4. Les path \n",
    "python\n",
    "In [7]: datasets/movielens/'Tab' <br/>\n",
    "datasets/movielens/movies.dat <br/> datasets/movielens/README <br/>\n",
    "datasets/movielens/ratings.dat <br/> datasets/movielens/users.dat <br/>\n",
    "\n",
    "## Docstring \n",
    "Permet d'avoir des information sur une fonction\n",
    "```python\n",
    "range(10) # Placez vous sur la ligne et appuyez sur shift+tab\n",
    "```\n",
    "![Docstring_range](images/Docstring_range.PNG)\n",
    "\n",
    "\n",
    "# Le point d'interogation\n",
    "## 1. Les infromations sur la variable\n",
    "il permet d'ouvrir une fenetre avec certaines information sur la variable <br/>\n",
    "```python\n",
    "a = 'String'  \n",
    "a?\n",
    "```\n",
    "\n"
   ]
  },
  {
   "cell_type": "markdown",
   "metadata": {},
   "source": [
    "![Point d'interogation](images/infos_variable.PNG)"
   ]
  },
  {
   "cell_type": "markdown",
   "metadata": {},
   "source": [
    "## 2. Les informations sur des fonctions crées\n",
    "Si vous créez une fonction avec des commentaires ou une explication sur la fonction, '?' vous retounera vos commentaire par exemple : "
   ]
  },
  {
   "cell_type": "markdown",
   "metadata": {},
   "source": [
    "![](../Images/infos_variable.png)"
   ]
  },
  {
   "cell_type": "code",
   "execution_count": 2,
   "metadata": {},
   "outputs": [],
   "source": [
    "def add_numbers(a, b):\n",
    "    '''\n",
    "    Additionne deux nombre\n",
    "    Returns\n",
    "    -------\n",
    "    La somme : somme de deux int\n",
    "    '''\n",
    "    return a + b"
   ]
  },
  {
   "cell_type": "code",
   "execution_count": 3,
   "metadata": {},
   "outputs": [],
   "source": [
    "add_numbers?"
   ]
  },
  {
   "cell_type": "markdown",
   "metadata": {},
   "source": [
    "Vous retournera, les infos mis en commentaires : "
   ]
  },
  {
   "cell_type": "markdown",
   "metadata": {},
   "source": [
    "![Signature_Fonction](images/infos_fonction.PNG)"
   ]
  },
  {
   "cell_type": "code",
   "execution_count": 4,
   "metadata": {},
   "outputs": [],
   "source": [
    "add_numbers??"
   ]
  },
  {
   "cell_type": "markdown",
   "metadata": {},
   "source": [
    "Vous retournera, le code source de la fonction:"
   ]
  },
  {
   "cell_type": "markdown",
   "metadata": {},
   "source": [
    "![code_source_Fonction](images/infos_code_fonction.PNG)"
   ]
  },
  {
   "cell_type": "code",
   "execution_count": 5,
   "metadata": {},
   "outputs": [
    {
     "data": {
      "text/plain": [
       "<function __main__.add_numbers(a, b)>"
      ]
     },
     "execution_count": 5,
     "metadata": {},
     "output_type": "execute_result"
    }
   ],
   "source": [
    "add_numbers"
   ]
  },
  {
   "cell_type": "markdown",
   "metadata": {},
   "source": [
    "## 3. Les informations sur des fonctions natives\n",
    "\n",
    "Par exemple, "
   ]
  },
  {
   "cell_type": "code",
   "execution_count": 4,
   "metadata": {},
   "outputs": [],
   "source": [
    "np.*load*?"
   ]
  },
  {
   "cell_type": "markdown",
   "metadata": {},
   "source": [
    "vous retournera, toutes les fonctions numpy contenant load.\n",
    "\n",
    "\n",
    "![Signature_Fonction](images/infos_fonction1.PNG)"
   ]
  },
  {
   "cell_type": "markdown",
   "metadata": {},
   "source": [
    "# Magic command en python\n",
    "Les magic commands sont des fonction concues pour faciliter les tâches. Elles sont prefixées par le symbole %.\n",
    "## %run et % load\n",
    "%run permet d'exécuter un script python depuis jupyter et d'intégrer le resultat au Kernel actuel. \n",
    "\n",
    "%run peut faire appel aux variables existantes dans le kernel en l'utilisant avec l'option '-i'\n",
    "\n",
    "%load permet d'importer un script dans une cellule.\n",
    "\n",
    "## %timeit\n",
    "%timeit permet de voir le temps d'exécution d'une fonction.\n",
    "\n",
    "## %matplotlib \n",
    "%matplotlib configure l'integration avec Jupyter Notebook ou le shell Ipython"
   ]
  },
  {
   "cell_type": "code",
   "execution_count": 5,
   "metadata": {},
   "outputs": [],
   "source": [
    "# Par exemple\n",
    "a = np.random.randn(100,100)\n",
    "%timeit np.dot (a,a)"
   ]
  },
  {
   "cell_type": "markdown",
   "metadata": {},
   "source": [
    "Voici quelques exemples de magic function en Ipython: \n",
    "\n",
    "\n",
    "![Magic_function](images/magics_functions.PNG)"
   ]
  },
  {
   "cell_type": "code",
   "execution_count": null,
   "metadata": {},
   "outputs": [],
   "source": []
  },
  {
   "cell_type": "code",
   "execution_count": null,
   "metadata": {},
   "outputs": [],
   "source": []
  },
  {
   "cell_type": "code",
   "execution_count": null,
   "metadata": {},
   "outputs": [],
   "source": []
  },
  {
   "cell_type": "markdown",
   "metadata": {},
   "source": [
    "In [1]: a = 'foo'\n",
    "\n",
    "In [2]: a.<Press Tab>\n",
    "a.capitalize  a.format      a.isupper     a.rindex      a.strip\n",
    "a.center      a.index       a.join        a.rjust       a.swapcase\n",
    "a.count       a.isalnum     a.ljust       a.rpartition  a.title\n",
    "a.decode      a.isalpha     a.lower       a.rsplit      a.translate\n",
    "a.encode      a.isdigit     a.lstrip      a.rstrip      a.upper\n",
    "a.endswith    a.islower     a.partition   a.split       a.zfill\n",
    "a.expandtabs  a.isspace     a.replace     a.splitlines\n",
    "a.find        a.istitle     a.rfind       a.startswith"
   ]
  },
  {
   "cell_type": "code",
   "execution_count": null,
   "metadata": {},
   "outputs": [],
   "source": [
    "data = {i: np.random.randn() for i in range (7)}\n",
    "data"
   ]
  },
  {
   "cell_type": "markdown",
   "metadata": {
    "collapsed": true
   },
   "source": [
    "## Getting help on a function \n",
    "- my_function ? ou my_funvtion ?? : aide sur une fonction que j'ai crée\n",
    "- np.*load*? : aide (liste) sur les fonctions numpy contenant load\n",
    "\n",
    "## import a script into jupyter \n",
    "%load my_script.py\n",
    "\n",
    "## running from ipython\n",
    "%run my_script.py\n",
    "\n",
    "\n"
   ]
  },
  {
   "cell_type": "markdown",
   "metadata": {},
   "source": [
    "###  LES NOMBRES : Opérations\n",
    "\n"
   ]
  },
  {
   "cell_type": "code",
   "execution_count": null,
   "metadata": {},
   "outputs": [],
   "source": [
    "# Int\n",
    "a= 1"
   ]
  },
  {
   "cell_type": "code",
   "execution_count": null,
   "metadata": {},
   "outputs": [],
   "source": [
    "# Float\n",
    "b= 1.0"
   ]
  },
  {
   "cell_type": "code",
   "execution_count": null,
   "metadata": {},
   "outputs": [],
   "source": [
    "print(type(a))\n",
    "print(type(b))"
   ]
  },
  {
   "cell_type": "code",
   "execution_count": 1,
   "metadata": {},
   "outputs": [],
   "source": [
    "# Python respecte la règle des opération (multiplication, puis division, puis addition)\n",
    "# Addition \n",
    "c =3+6\n",
    "#Multipication \n",
    "d = 6*5\n",
    "\n",
    "# Puissance \n",
    "e =2**4\n",
    "#divsion\n",
    "f = 4/2\n",
    "# Reste de la division (modulo)\n",
    "g=  4%2"
   ]
  },
  {
   "cell_type": "code",
   "execution_count": 7,
   "metadata": {},
   "outputs": [
    {
     "data": {
      "text/plain": [
       "2.0"
      ]
     },
     "execution_count": 7,
     "metadata": {},
     "output_type": "execute_result"
    }
   ],
   "source": [
    "4/2"
   ]
  },
  {
   "cell_type": "markdown",
   "metadata": {},
   "source": [
    "# Strings\n",
    "- On peut créer des strings en utilisant des simples quotes ' ou des doubles quotes \". \n",
    "- Les strings sont donc immutables, il ne peuvent pas être modifées.\n",
    "- Les strings peuvent être encodées selon différents types\n",
    "- '\\' est un caractère spéciale, il faut donc mettre '\\\\' pour créer un string avec '\\' ou utiser r qui veut dire que tous les caractères sont à interpréter comme tel :"
   ]
  },
  {
   "cell_type": "code",
   "execution_count": null,
   "metadata": {},
   "outputs": [],
   "source": [
    "# Les strings comme les autres types en python ont leur propre méthodes : \n",
    "s = 'Bonjour, mon nom est SAM'\n",
    "print(s.lower())\n",
    "print(s.upper())\n",
    "print(s.split()) # renvoi une liste en fonction du caractère se séprataion spécifié"
   ]
  },
  {
   "cell_type": "code",
   "execution_count": null,
   "metadata": {},
   "outputs": [],
   "source": [
    "s = r'this\\has\\no\\special\\characters' # ou \n",
    "s ='this\\\\has\\\\no\\\\special\\\\characters'\n"
   ]
  },
  {
   "cell_type": "markdown",
   "metadata": {},
   "source": [
    "- La concaténation de deux strings se fait en utilisant '+'"
   ]
  },
  {
   "cell_type": "code",
   "execution_count": 2,
   "metadata": {},
   "outputs": [
    {
     "data": {
      "text/plain": [
       "'ceci est une chaine de caractère'"
      ]
     },
     "execution_count": 2,
     "metadata": {},
     "output_type": "execute_result"
    }
   ],
   "source": [
    "a = 'ceci est '\n",
    "b = 'une chaine de caractère'\n",
    "c = a+b\n",
    "c"
   ]
  },
  {
   "cell_type": "markdown",
   "metadata": {},
   "source": [
    "### Le string template ou format"
   ]
  },
  {
   "cell_type": "markdown",
   "metadata": {},
   "source": [
    "- Le sting template est une méthode d'affichage qui permet d'afficher une chaine de caractères sous différents formats\n",
    "• {0:.2f} : Afficher le premier élément comme un float avec deux decimales.\n",
    "• {1:s} : afficher le second nombre comme un string.\n",
    "• {2:d} : le troisième argument comme un interger.\n",
    "\n",
    "- Format permet d'afficher n'importe quel élément"
   ]
  },
  {
   "cell_type": "code",
   "execution_count": 9,
   "metadata": {},
   "outputs": [
    {
     "name": "stdout",
     "output_type": "stream",
     "text": [
      "Mon nom est GM, mon age est 26\n",
      "Mon nom est GM, mon age est 26\n"
     ]
    }
   ],
   "source": [
    "# String template\n",
    "template = '{0:.2f} {1:s} are worth US${2:d}'\n",
    "template.format(4.5560, 'Argentine Pesos', 1)\n",
    "\n",
    "# Format \n",
    "print(\"Mon nom est {}, mon age est {}\".format('GM', '26')) # Avec variables \n",
    "print(\"Mon nom est {x}, mon age est {y}\".format(x='GM', y='26')) # Sans variables"
   ]
  },
  {
   "cell_type": "markdown",
   "metadata": {},
   "source": [
    "# Date time\n",
    "p44"
   ]
  },
  {
   "cell_type": "markdown",
   "metadata": {},
   "source": [
    "# TUPLES"
   ]
  },
  {
   "cell_type": "code",
   "execution_count": null,
   "metadata": {},
   "outputs": [],
   "source": [
    "## tuples \n",
    "tup = 4,5,6\n",
    "nested_tuple = (4,5,6), (5,7)\n",
    "# break tupel\n",
    "a,b,c = tup\n",
    "# swaping in python\n",
    "a,b = b, a"
   ]
  },
  {
   "cell_type": "code",
   "execution_count": null,
   "metadata": {},
   "outputs": [],
   "source": [
    "## printing value in seq \n",
    "seq = [(1,2,3), (4,5,6)]\n",
    "for a,b,c in seq : \n",
    "    print('a={0}, b={1}, c={2}'.format(a,b,c))"
   ]
  },
  {
   "cell_type": "code",
   "execution_count": null,
   "metadata": {},
   "outputs": [],
   "source": [
    "# fonction rest \n",
    "tup = 4,5,6,1,2,3,4,5\n",
    "a,b,c,*rest = tup\n",
    "## ou encore \n",
    "ab, cd, *_ = tup"
   ]
  },
  {
   "cell_type": "code",
   "execution_count": null,
   "metadata": {},
   "outputs": [],
   "source": [
    "a,b, c"
   ]
  },
  {
   "cell_type": "code",
   "execution_count": null,
   "metadata": {},
   "outputs": [],
   "source": [
    "ab, cd"
   ]
  },
  {
   "cell_type": "code",
   "execution_count": null,
   "metadata": {},
   "outputs": [],
   "source": [
    "## count the number of a value in a tuple \n",
    "t = tup.count(5)\n",
    "t"
   ]
  },
  {
   "cell_type": "markdown",
   "metadata": {},
   "source": [
    "# List\n",
    "Les listes sont mutables et ont leur propre méthodes"
   ]
  },
  {
   "cell_type": "code",
   "execution_count": 14,
   "metadata": {},
   "outputs": [],
   "source": [
    "# Plusieurs manières de créer une liste\n",
    "my_list = [1, 2,'b',5,6,9]\n",
    "gen = range(10)\n",
    "gen_list = list(gen)"
   ]
  },
  {
   "cell_type": "code",
   "execution_count": 1,
   "metadata": {},
   "outputs": [
    {
     "name": "stdout",
     "output_type": "stream",
     "text": [
      "[3, 5, 7, 9]\n",
      "[0, 1, 2, 3, 4, 5, 6, 7, 8, 9]\n"
     ]
    }
   ],
   "source": [
    "# Range permet de générer rapidement une liste d'élément semblables. On peut spécifier le début, le stop et le step. Il créera \n",
    "# une liste de taille stop\n",
    "# Notez que range commence à compter à partir de 0, il se termine donc à stop-1\n",
    "# range(stat, stop, step)\n",
    "\n",
    "print(list(range(3,10,2)))\n",
    "\n",
    "# seul le stop est obligatoire, dans ce cas la liste commencera à 0 et se terminera à stop\n",
    "#range(stop)\n",
    "print(list(range(10)))"
   ]
  },
  {
   "cell_type": "code",
   "execution_count": null,
   "metadata": {},
   "outputs": [],
   "source": [
    "# insert élément in a list\n",
    "gen_list.append('d')\n",
    "gen_list.insert(1,100)\n",
    "gen_list"
   ]
  },
  {
   "cell_type": "code",
   "execution_count": null,
   "metadata": {},
   "outputs": [],
   "source": [
    "# delete élément in a list\n",
    "gen_list.pop(1) # on spécifie l'index\n",
    "gen_list.remove('d')\n",
    "gen_list"
   ]
  },
  {
   "cell_type": "code",
   "execution_count": null,
   "metadata": {},
   "outputs": [],
   "source": [
    "## concatening list : simimar to tuple\n",
    "gen1 = list(range (5))\n",
    "concantgen = gen_list+gen1\n",
    "# we can also add multiple élément in a list \n",
    "gen1.extend (7,5,9,6)"
   ]
  },
  {
   "cell_type": "code",
   "execution_count": 11,
   "metadata": {},
   "outputs": [],
   "source": [
    "# Nested List \n",
    "my_nested_list = [1,2, [100,200]]"
   ]
  },
  {
   "cell_type": "markdown",
   "metadata": {},
   "source": [
    "Certaines fontions sont souteuses en ressources : \n",
    "insert et la concateantion pcque insert requière de spécifier l'index et la concatenation crée un nouvel object\n",
    "Préferez extend à la concatenation\n",
    "\n",
    "## Binary search and maintening a sorted list\n",
    "on peut utiliser bisect : bisect.bisect trouve la place où insérer l'élément pour maintenir la liste triée et bisect.insort insère l'élément dans la location\n",
    "## Slicing \n",
    "Le slicing permet d'avoir accès aux éléments d'une séquence(liste ou d'un array). La syntaxe est la suivante : seq(debut: fin: pas). Le pas est optionnel, s'il n'est pas précisé, python considérera un pas de 1. Les paramètres début et fin aussi peuvent ne pas être précisés, dans ce cas, toute la séquence sera renvoyé (en tenant compte du pas précisé ou non). \n",
    "\n",
    "-Pour le slicing simple (accès à un élément), il suffit de mettre le numéro de l'élément recherché en commençant par 0\n",
    "-Pour le slicing complexe on précise ou non le début, la fin et le pas\n",
    "-on peut inverser une liste en utilisant le slicing: \n",
    "seq[::-1]\n",
    "- Nested slicing : Permet d'avoir accès aux éléments d'une nested liste\n",
    "seq[0][1]"
   ]
  },
  {
   "cell_type": "code",
   "execution_count": 19,
   "metadata": {},
   "outputs": [
    {
     "name": "stdout",
     "output_type": "stream",
     "text": [
      "1\n",
      "[1, 'b', 6]\n",
      "9\n"
     ]
    },
    {
     "data": {
      "text/plain": [
       "200"
      ]
     },
     "execution_count": 19,
     "metadata": {},
     "output_type": "execute_result"
    }
   ],
   "source": [
    "# Slicing simple : Accès au premier élement\n",
    "print(my_list[0])\n",
    "# Slicing comple: accès à des éléments précis\n",
    "print(my_list[0:6:2])\n",
    "#slicing inversé\n",
    "print(my_list[-1])\n",
    "# Nested slicing!\n",
    "my_nested_list[2][1]"
   ]
  },
  {
   "cell_type": "code",
   "execution_count": null,
   "metadata": {},
   "outputs": [],
   "source": [
    "## Les dictionnaires \n"
   ]
  },
  {
   "cell_type": "code",
   "execution_count": null,
   "metadata": {},
   "outputs": [],
   "source": [
    "d= {'cle1':'valeur1','cle2':'valeur2' }"
   ]
  },
  {
   "cell_type": "code",
   "execution_count": null,
   "metadata": {},
   "outputs": [],
   "source": [
    "# Tuples: Les tuples sont immutables\n"
   ]
  },
  {
   "cell_type": "code",
   "execution_count": null,
   "metadata": {},
   "outputs": [],
   "source": [
    "tuples = (1,2,3)"
   ]
  },
  {
   "cell_type": "code",
   "execution_count": null,
   "metadata": {},
   "outputs": [],
   "source": [
    "# Les sets ont des éléments uniques\n"
   ]
  },
  {
   "cell_type": "code",
   "execution_count": null,
   "metadata": {},
   "outputs": [],
   "source": [
    "set =  {1,2,3}\n",
    "set2 = {1,1,2,2,3,3}"
   ]
  },
  {
   "cell_type": "markdown",
   "metadata": {},
   "source": [
    "## Enumarate \n",
    "Permet d'itérer dans dans une liste ou une collection en ayant les valeurs et les index. \n",
    "par exemple faire un mapping entre les valeurs et les index\n"
   ]
  },
  {
   "cell_type": "code",
   "execution_count": null,
   "metadata": {},
   "outputs": [],
   "source": [
    "montuple = ('tt','fii', 'zd', 'totot')\n",
    "mapping = {}\n",
    "for i, v in enumerate(malist): \n",
    "    mapping[v] = i\n",
    "mapping "
   ]
  },
  {
   "cell_type": "markdown",
   "metadata": {},
   "source": [
    "## Zip \n",
    "Permet de zipper les éléments d'une liste par pairs de même index "
   ]
  },
  {
   "cell_type": "code",
   "execution_count": null,
   "metadata": {},
   "outputs": [],
   "source": [
    "malist = ('att','bfii', 'czd', 'dtotot')\n",
    "malist2 = ('one', 'two', 'three', 'for', 'five')\n",
    "zipped_list = list(zip(malist, malist2))"
   ]
  },
  {
   "cell_type": "code",
   "execution_count": null,
   "metadata": {},
   "outputs": [],
   "source": [
    "zipped_list"
   ]
  },
  {
   "cell_type": "code",
   "execution_count": null,
   "metadata": {},
   "outputs": [],
   "source": [
    "for i, (a,b) in enumerate(zip(malist, malist2)): \n",
    "    print('{0} :{1},{2}'.format(i, a, b))"
   ]
  },
  {
   "cell_type": "code",
   "execution_count": null,
   "metadata": {},
   "outputs": [],
   "source": [
    "## zip can also be used to unzip a sequence\n",
    "liste , liste1 = zip(*zipped_list)"
   ]
  },
  {
   "cell_type": "code",
   "execution_count": null,
   "metadata": {},
   "outputs": [],
   "source": [
    "mapi = {}\n",
    "for i, (a,b) in enumerate(zip(malist, malist2)):\n",
    "    mapi[a] = b\n",
    "mapi\n",
    "    "
   ]
  },
  {
   "cell_type": "code",
   "execution_count": null,
   "metadata": {},
   "outputs": [],
   "source": [
    "mapi = {}\n",
    "for k, v  in zip(malist, malist2): \n",
    "    mapi[k]=v\n",
    "mapi"
   ]
  },
  {
   "cell_type": "code",
   "execution_count": null,
   "metadata": {},
   "outputs": [],
   "source": [
    "mapi = dict(zip(malist, malist2))\n",
    "mapi"
   ]
  },
  {
   "cell_type": "code",
   "execution_count": null,
   "metadata": {},
   "outputs": [],
   "source": []
  }
 ],
 "metadata": {
  "anaconda-cloud": {},
  "kernelspec": {
   "display_name": "Python 3",
   "language": "python",
   "name": "python3"
  },
  "language_info": {
   "codemirror_mode": {
    "name": "ipython",
    "version": 3
   },
   "file_extension": ".py",
   "mimetype": "text/x-python",
   "name": "python",
   "nbconvert_exporter": "python",
   "pygments_lexer": "ipython3",
   "version": "3.6.5"
  }
 },
 "nbformat": 4,
 "nbformat_minor": 1
}
