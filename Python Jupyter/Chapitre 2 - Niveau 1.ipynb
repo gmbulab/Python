{
 "cells": [
  {
   "cell_type": "code",
   "execution_count": 1,
   "metadata": {},
   "outputs": [
    {
     "data": {
      "text/plain": [
       "False"
      ]
     },
     "execution_count": 1,
     "metadata": {},
     "output_type": "execute_result"
    }
   ],
   "source": [
    "# Compareteur \n",
    "1>5"
   ]
  },
  {
   "cell_type": "code",
   "execution_count": null,
   "metadata": {},
   "outputs": [],
   "source": [
    "1==1"
   ]
  },
  {
   "cell_type": "code",
   "execution_count": null,
   "metadata": {},
   "outputs": [],
   "source": [
    "'A'=='a'"
   ]
  },
  {
   "cell_type": "code",
   "execution_count": null,
   "metadata": {},
   "outputs": [],
   "source": [
    "1!=6"
   ]
  },
  {
   "cell_type": "code",
   "execution_count": null,
   "metadata": {},
   "outputs": [],
   "source": [
    "(1==1) and ('A'=='a') # parenthèse reconmandée pour lecture facile"
   ]
  },
  {
   "cell_type": "markdown",
   "metadata": {},
   "source": [
    "- Fonction interessante : \n",
    "getattr, inter?? , isinstance, isiterable\n",
    "- compléter string auc chap 1, date time"
   ]
  },
  {
   "cell_type": "markdown",
   "metadata": {},
   "source": [
    "# Les controles Flow en python\n",
    "Toujours une indentation dans le code.\n",
    "## 1. If , elif et else\n",
    "-Le if est un des control flow les plus connus. Ils vérifient une condition qui si elle est vraie va évaluer un code dans le bloc qui suit. <br/>\n",
    "La syntaxe est la suivante : <br/>\n",
    "\n",
    "if condition : \n",
    "    do something # Attention à l'indentation\n",
    "```python \n",
    "if condition : \n",
    "    do something \n",
    "```\n",
    "\n",
    "-Un if peut être suivi par un blocks elif et else. Si aucune des conditions du if ou du elif ne sont réunis, alors le else prend est exécuté.<br/>\n",
    "La syntaxe est la suivante :<br/> \n",
    "```python \n",
    "if condition : \n",
    "    do something \n",
    "elif condition: \n",
    "    do someting \n",
    "else : \n",
    "    do something \n",
    "```"
   ]
  },
  {
   "cell_type": "code",
   "execution_count": 2,
   "metadata": {},
   "outputs": [
    {
     "name": "stdout",
     "output_type": "stream",
     "text": [
      "Positive and larger or equal to 5\n"
     ]
    }
   ],
   "source": [
    "x = 7\n",
    "# If statement\n",
    "if x<0 : \n",
    "    print(\"it's negative\")\n",
    "\n",
    "# If elif else\n",
    "if x<0 : \n",
    "    print(\"it's negative\")\n",
    "elif x ==0 : \n",
    "    print(\"Equal to zero\")\n",
    "elif 0 < x < 5:\n",
    "    print('Positive but smaller than 5')\n",
    "else :\n",
    "    print(\"Positive and larger or equal to 5\")"
   ]
  },
  {
   "cell_type": "markdown",
   "metadata": {},
   "source": [
    "## 2. Le for loop\n",
    "For loop permet d'itérer sur une collection comme une liste, un object ou un iterateur.\n",
    "La syntaxe est la suivante : \n",
    "```python\n",
    "for value in collection : \n",
    "    do something\n",
    "```\n",
    "### Continue, break\n",
    "#### Continue\n",
    "On peut passer à la prochaine itération et sotant un valeur de la collection en utilisant le mot clé \"continue\". \n",
    "\n",
    "La syntaxe est la suivante : \n",
    "```python\n",
    "for value in collection : # Value et collection ne sont pas des mots clés\n",
    "    if value is something or value == something: \n",
    "        continue # Ne fait rien si value est something\n",
    "    do something\n",
    "```\n",
    "#### Break\n",
    "On peut sortir d'une boucle for avec le mot clé break (a condition que . \n",
    "```python\n",
    "for value in collection : \n",
    "    if value is break_raison or value == break_raison: \n",
    "        break # Ne fait rien si value est something\n",
    "    do something until break_raison\n",
    "```"
   ]
  },
  {
   "cell_type": "code",
   "execution_count": 7,
   "metadata": {},
   "outputs": [
    {
     "name": "stdout",
     "output_type": "stream",
     "text": [
      "1\n",
      "4\n",
      "9\n",
      "25\n",
      "36\n",
      "49\n",
      "Liste  [1, 4, 9, 25, 36, 49]\n"
     ]
    }
   ],
   "source": [
    "# Exemple 1 For \n",
    "seq= [1,2,3,5,6,7]\n",
    "for value in seq : \n",
    "    print(value**2)\n",
    "#Exemple 2 For\n",
    "liste=[]\n",
    "for x in seq : \n",
    "    liste.append(x**2)\n",
    "print('Liste : ',  liste)\n",
    "\n",
    "# Exemple 3 For \n",
    "print([x**2 for x in seq]) # plus compact et facile à utiliser\n",
    "# Exemple continue\n",
    "\n",
    "\n",
    "# Exemple Break"
   ]
  },
  {
   "cell_type": "markdown",
   "metadata": {},
   "source": [
    "## While Loops \n",
    "while permet d'exécuter un code tant qu'une condition est vrai. La syntaxe est la suivante : \n",
    "```python\n",
    "while condition: \n",
    "    do something # Attention aux boucles infinies. Pensez à vérifier que la condition ne sera plus vérifiée. \n",
    "```"
   ]
  },
  {
   "cell_type": "code",
   "execution_count": 4,
   "metadata": {},
   "outputs": [
    {
     "name": "stdout",
     "output_type": "stream",
     "text": [
      "i vaut 5\n",
      "i vaut 6\n",
      "i vaut 7\n",
      "i vaut 8\n",
      "i vaut 9\n"
     ]
    }
   ],
   "source": [
    "#Exemple while\n",
    "i=5\n",
    "while i<10 : \n",
    "    print('i vaut {}'.format(i))\n",
    "    i+=1\n",
    "    "
   ]
  },
  {
   "cell_type": "code",
   "execution_count": 3,
   "metadata": {},
   "outputs": [
    {
     "name": "stdout",
     "output_type": "stream",
     "text": [
      "(0, 0)\n",
      "(1, 0)\n",
      "(1, 1)\n",
      "(2, 0)\n",
      "(2, 1)\n",
      "(2, 2)\n",
      "(3, 0)\n",
      "(3, 1)\n",
      "(3, 2)\n",
      "(3, 3)\n"
     ]
    }
   ],
   "source": [
    "## Continuer à while loop\n"
   ]
  },
  {
   "cell_type": "markdown",
   "metadata": {},
   "source": [
    "# Les fonctions en python \n",
    "Les mots clés pour une fonction sont : def et return. Retunr peut être remplacé par un print si on veut uniquement afficher le resultat \n",
    "```python\n",
    "def ma_fonction(parm1, param2,...) :  # Les paramètres sont optionnels et il est possibles de mettre des paramètres par defaut\n",
    "    code fonction\n",
    "    return resultat\n",
    "```"
   ]
  },
  {
   "cell_type": "code",
   "execution_count": 8,
   "metadata": {},
   "outputs": [
    {
     "name": "stdout",
     "output_type": "stream",
     "text": [
      "carre 9\n",
      "somme 11\n",
      "somme_param 7\n",
      "somme_param 13\n"
     ]
    }
   ],
   "source": [
    "# Exemple 1 fonction :  renvoit le carré d'un nombre \n",
    "def carre(x) :\n",
    "    '''\n",
    "    Calcule le carré d\\'un nombre\n",
    "    ---\n",
    "    Returns \n",
    "    Nombre au carré : int\n",
    "    '''\n",
    "    return x**2\n",
    "print('carre', carre(3))\n",
    "# Exemple 2 fonction : renvoit la somme de deux nombres \n",
    "def somme(x,y) :\n",
    "    '''\n",
    "    Calcule la somme de deux nombres\n",
    "    ---\n",
    "    Returns \n",
    "    Somme de deux nombres : int\n",
    "    '''\n",
    "    return x+y\n",
    "print('somme' , somme(5,6))\n",
    "# Exemple 3 : Fonction avec paramètre prédéfini, qui ne peut pas être suivi par un paramètre non défini. \n",
    "# Le paramètre prendra alors la valeur pardéfaut si aucune autre n'est spécifiée. \n",
    "def somme_param(x, y=3) :\n",
    "    '''\n",
    "    Calcule la somme de deux nombres\n",
    "    ---\n",
    "    Returns \n",
    "    Somme de deux nombres : int\n",
    "    '''\n",
    "    return x+y\n",
    "print('somme_param', somme_param(4)) # x =4 et y =3 par defaut\n",
    "# La valeur de y peut être modifiée\n",
    "print('somme_param', somme_param(4, 9))"
   ]
  },
  {
   "cell_type": "code",
   "execution_count": 4,
   "metadata": {},
   "outputs": [],
   "source": [
    "# Le resultat d'une fonction peut être stockée, il faut pour celà utiliser obligatoirement le mot return\n",
    "z = somme_param(4, 9)\n",
    "z "
   ]
  },
  {
   "cell_type": "markdown",
   "metadata": {},
   "source": [
    "# Les fonctions Lambda\n",
    "Permet de créer des fonction anonymes qui seront utilisées qu'une fois. La syntaxe est la suivante : \n",
    "```python\n",
    "lambda entre: resultat_attendu # Peut prendre plusieurs arguments en entrée et mais ne renvoyer qu'un\n",
    "``` \n",
    "Lambda peut être utilisée de plusieurs manières : \n",
    "1. En stockant directement la valeur : \n",
    "```python\n",
    "x = lambda x:x**2\n",
    "#Utilisation : \n",
    "x(5)\n",
    "```\n",
    "\n",
    "2. Dans une fonction : \n",
    "```python\n",
    "def ma_fonction(n) : \n",
    "    return lambda x: x*n\n",
    "\n",
    "# Utilisation \n",
    "x = ma_fonction(2) # x correspond alors à la fonction lambda sans paramètres\n",
    "\n",
    "```"
   ]
  },
  {
   "cell_type": "code",
   "execution_count": 11,
   "metadata": {},
   "outputs": [
    {
     "name": "stdout",
     "output_type": "stream",
     "text": [
      "25\n",
      "5\n"
     ]
    }
   ],
   "source": [
    "# Exemple 1 lambda,  la fonction carré :\n",
    "x = lambda x: x**2\n",
    "print(x(5))\n",
    "\n",
    "# Exemple 2 Lambda, la fonction somme \n",
    "x = lambda x, y : x+y\n",
    "print(x(2,3))"
   ]
  },
  {
   "cell_type": "code",
   "execution_count": 12,
   "metadata": {},
   "outputs": [],
   "source": [
    "#Exemple 3 lambda\n",
    "def ma_fonction(n) : \n",
    "    return lambda x: x*n\n",
    "\n",
    "# Utilisation \n",
    "#En une ligne : \n",
    "print(ma_fonction(2)(10)) # Utilisation rapide : paramètre 2 pour la fonction ma_fonction et 10 pour lambda\n",
    "# EN deux lignes\n",
    "x = ma_fonction(2)\n",
    "print(x(10))"
   ]
  },
  {
   "cell_type": "code",
   "execution_count": 16,
   "metadata": {},
   "outputs": [
    {
     "name": "stdout",
     "output_type": "stream",
     "text": [
      "20\n"
     ]
    }
   ],
   "source": [
    "print(ma_fonction(2)(10))"
   ]
  },
  {
   "cell_type": "code",
   "execution_count": 14,
   "metadata": {},
   "outputs": [
    {
     "data": {
      "text/plain": [
       "<function __main__.<lambda>(x)>"
      ]
     },
     "execution_count": 14,
     "metadata": {},
     "output_type": "execute_result"
    }
   ],
   "source": [
    "lambda x: x*n"
   ]
  },
  {
   "cell_type": "code",
   "execution_count": null,
   "metadata": {},
   "outputs": [],
   "source": []
  }
 ],
 "metadata": {
  "kernelspec": {
   "display_name": "Python 3",
   "language": "python",
   "name": "python3"
  },
  "language_info": {
   "codemirror_mode": {
    "name": "ipython",
    "version": 3
   },
   "file_extension": ".py",
   "mimetype": "text/x-python",
   "name": "python",
   "nbconvert_exporter": "python",
   "pygments_lexer": "ipython3",
   "version": "3.6.5"
  }
 },
 "nbformat": 4,
 "nbformat_minor": 2
}
